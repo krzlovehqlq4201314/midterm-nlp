{
 "cells": [
  {
   "cell_type": "markdown",
   "metadata": {},
   "source": [
    "# Placeholder Notebook\n",
    "\n",
    "Fill in code & analysis here."
   ]
  },
  {
   "cell_type": "code",
   "execution_count": 1,
   "metadata": {},
   "outputs": [
    {
     "name": "stdout",
     "output_type": "stream",
     "text": [
      "💬 总评论数: 4,888\n",
      "平均词数: 80.89, 最短/最长: 1 / 1175\n"
     ]
    }
   ],
   "source": [
    "import pathlib, pandas as pd, matplotlib.pyplot as plt\n",
    "from collections import Counter\n",
    "\n",
    "txt_path = pathlib.Path(\"../data/clean/comments.txt\")\n",
    "lines = txt_path.read_text(encoding=\"utf-8\").splitlines()\n",
    "token_lists = [l.split() for l in lines]\n",
    "lengths = [len(toks) for toks in token_lists]\n",
    "\n",
    "print(f\"💬 总评论数: {len(lines):,}\")\n",
    "print(f\"平均词数: {sum(lengths)/len(lengths):.2f}, 最短/最长: {min(lengths)} / {max(lengths)}\")\n"
   ]
  },
  {
   "cell_type": "code",
   "execution_count": null,
   "metadata": {},
   "outputs": [],
   "source": []
  },
  {
   "cell_type": "code",
   "execution_count": null,
   "metadata": {},
   "outputs": [],
   "source": []
  }
 ],
 "metadata": {
  "kernelspec": {
   "display_name": "Python 3 (ipykernel)",
   "language": "python",
   "name": "python3"
  },
  "language_info": {
   "codemirror_mode": {
    "name": "ipython",
    "version": 3
   },
   "file_extension": ".py",
   "mimetype": "text/x-python",
   "name": "python",
   "nbconvert_exporter": "python",
   "pygments_lexer": "ipython3",
   "version": "3.11.9"
  }
 },
 "nbformat": 4,
 "nbformat_minor": 4
}
