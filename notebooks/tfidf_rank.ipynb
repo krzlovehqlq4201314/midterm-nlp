{
 "cells": [
  {
   "cell_type": "markdown",
   "metadata": {},
   "source": [
    "# Placeholder Notebook\n",
    "\n",
    "Fill in code & analysis here."
   ]
  },
  {
   "cell_type": "code",
   "execution_count": 1,
   "metadata": {},
   "outputs": [
    {
     "name": "stdout",
     "output_type": "stream",
     "text": [
      "✅ TF-IDF index saved to ..\\outputs\\tfidf_index.pkl\n"
     ]
    }
   ],
   "source": [
    "from sklearn.feature_extraction.text import TfidfVectorizer\n",
    "import pickle, pathlib\n",
    "\n",
    "# 读取清洗后评论\n",
    "docs = pathlib.Path(\"../data/clean/comments.txt\").read_text(encoding=\"utf-8\").splitlines()\n",
    "\n",
    "# 训练 TF-IDF 向量器\n",
    "vec = TfidfVectorizer(max_df=0.9, min_df=5, ngram_range=(1,2))\n",
    "X = vec.fit_transform(docs)\n",
    "\n",
    "# 保存索引和向量\n",
    "out_path = pathlib.Path(\"../outputs/tfidf_index.pkl\")\n",
    "out_path.parent.mkdir(exist_ok=True)  # 确保 outputs/ 目录存在\n",
    "with open(out_path, \"wb\") as f:\n",
    "    pickle.dump((vec, X, docs), f)\n",
    "\n",
    "print(\"✅ TF-IDF index saved to\", out_path)\n"
   ]
  },
  {
   "cell_type": "code",
   "execution_count": null,
   "metadata": {},
   "outputs": [],
   "source": []
  },
  {
   "cell_type": "code",
   "execution_count": null,
   "metadata": {},
   "outputs": [],
   "source": []
  },
  {
   "cell_type": "code",
   "execution_count": null,
   "metadata": {},
   "outputs": [],
   "source": []
  }
 ],
 "metadata": {
  "kernelspec": {
   "display_name": "Python 3 (ipykernel)",
   "language": "python",
   "name": "python3"
  },
  "language_info": {
   "codemirror_mode": {
    "name": "ipython",
    "version": 3
   },
   "file_extension": ".py",
   "mimetype": "text/x-python",
   "name": "python",
   "nbconvert_exporter": "python",
   "pygments_lexer": "ipython3",
   "version": "3.11.9"
  }
 },
 "nbformat": 4,
 "nbformat_minor": 4
}
