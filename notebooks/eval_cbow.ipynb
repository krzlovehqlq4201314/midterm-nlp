{
 "cells": [
  {
   "cell_type": "markdown",
   "metadata": {},
   "source": [
    "# Placeholder Notebook\n",
    "\n",
    "Fill in code & analysis here."
   ]
  },
  {
   "cell_type": "code",
   "execution_count": null,
   "metadata": {},
   "outputs": [
    {
     "name": "stdout",
     "output_type": "stream",
     "text": [
      "▶ Start eval…\n"
     ]
    }
   ],
   "source": [
    "import random\n",
    "from gensim.models import Word2Vec\n",
    "\n",
    "# 1. 加载模型和数据\n",
    "model = Word2Vec.load(\"../outputs/cbow_model\")\n",
    "sentences = [l.split() for l in open(\"../data/clean/comments.txt\", encoding=\"utf-8\")]\n",
    "\n",
    "# 2. 定义 Top-k 精度函数\n",
    "def topk_acc(k, trials=1000):\n",
    "    correct = 0\n",
    "    total = 0\n",
    "    for _ in range(trials):\n",
    "        sent = random.choice(sentences)\n",
    "        # 先过滤出在 vocab 里的单词\n",
    "        sent = [w for w in sent if w in model.wv.key_to_index]\n",
    "        if len(sent) < 3:\n",
    "            continue  # 太短或全是 OOV，跳过\n",
    "        idx = random.randrange(1, len(sent)-1)\n",
    "        target = sent[idx]\n",
    "        context = sent[:idx] + sent[idx+1:]\n",
    "        # 再次检查：context 必须非空\n",
    "        if not context:\n",
    "            continue\n",
    "        # 计算所有词的平均相似度\n",
    "        sims = {}\n",
    "        for w in model.wv.key_to_index:  # 遍历词表里的候选\n",
    "            # 平均上下文相似度\n",
    "            score = sum(model.wv.similarity(w, c) for c in context) / len(context)\n",
    "            sims[w] = score\n",
    "        # 取 top-k\n",
    "        topk = sorted(sims, key=sims.get, reverse=True)[:k]\n",
    "\n",
    "        total += 1\n",
    "        if target in topk:\n",
    "            correct += 1\n",
    "\n",
    "    return correct / total if total > 0 else 0\n",
    "\n",
    "# 3. 输出结果\n",
    "print(\"▶ Start eval…\")\n",
    "print(\"Top-1:\", topk_acc(1, trials=50))\n",
    "print(\"Top-3:\", topk_acc(3, trials=50))\n"
   ]
  },
  {
   "cell_type": "code",
   "execution_count": null,
   "metadata": {},
   "outputs": [],
   "source": []
  }
 ],
 "metadata": {
  "kernelspec": {
   "display_name": "Python 3 (ipykernel)",
   "language": "python",
   "name": "python3"
  },
  "language_info": {
   "codemirror_mode": {
    "name": "ipython",
    "version": 3
   },
   "file_extension": ".py",
   "mimetype": "text/x-python",
   "name": "python",
   "nbconvert_exporter": "python",
   "pygments_lexer": "ipython3",
   "version": "3.11.9"
  }
 },
 "nbformat": 4,
 "nbformat_minor": 4
}
