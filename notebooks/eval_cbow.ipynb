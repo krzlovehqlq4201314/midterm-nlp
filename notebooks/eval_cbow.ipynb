{
 "cells": [
  {
   "cell_type": "markdown",
   "metadata": {},
   "source": [
    "# Placeholder Notebook\n",
    "\n",
    "Fill in code & analysis here."
   ]
  },
  {
   "cell_type": "code",
   "execution_count": 1,
   "metadata": {},
   "outputs": [
    {
     "name": "stdout",
     "output_type": "stream",
     "text": [
      "▶ Starting CBOW evaluation…\n",
      "Top-1 Accuracy: 0.0020\n",
      "Top-3 Accuracy: 0.0060\n"
     ]
    }
   ],
   "source": [
    "# —— notebooks/eval_cbow.ipynb: 全新评估代码 —— \n",
    "\n",
    "import random\n",
    "import numpy as np\n",
    "from gensim.models import Word2Vec\n",
    "import pathlib\n",
    "\n",
    "# 1. 加载模型和数据\n",
    "model = Word2Vec.load(\"../outputs/cbow_model\")\n",
    "comments = pathlib.Path(\"../data/clean/comments.txt\").read_text(encoding=\"utf-8\").splitlines()\n",
    "sentences = [line.split() for line in comments]\n",
    "\n",
    "# 2. 定义高效 Top-k 精度函数\n",
    "def topk_acc(k, trials=1000):\n",
    "    correct = 0\n",
    "    total = 0\n",
    "\n",
    "    for _ in range(trials):\n",
    "        # 随机选择一句，并过滤 OOV\n",
    "        sent = random.choice(sentences)\n",
    "        sent = [w for w in sent if w in model.wv.key_to_index]\n",
    "        if len(sent) < 3:\n",
    "            continue\n",
    "        \n",
    "        # 随机掩码一个词\n",
    "        idx = random.randrange(1, len(sent) - 1)\n",
    "        target = sent[idx]\n",
    "        context = sent[:idx] + sent[idx+1:]\n",
    "        if not context:\n",
    "            continue\n",
    "\n",
    "        # 3. 计算上下文向量平均\n",
    "        ctx_vec = np.mean([model.wv[w] for w in context], axis=0)\n",
    "\n",
    "        # 4. 用 gensim 内置方法一次性找 top-k\n",
    "        topk = [word for word, _ in model.wv.similar_by_vector(ctx_vec, topn=k)]\n",
    "\n",
    "        total += 1\n",
    "        if target in topk:\n",
    "            correct += 1\n",
    "\n",
    "    return correct / total if total else 0.0\n",
    "\n",
    "# 5. 输出结果\n",
    "print(\"▶ Starting CBOW evaluation…\")\n",
    "print(f\"Top-1 Accuracy: {topk_acc(1):.4f}\")\n",
    "print(f\"Top-3 Accuracy: {topk_acc(3):.4f}\")\n"
   ]
  },
  {
   "cell_type": "code",
   "execution_count": null,
   "metadata": {},
   "outputs": [],
   "source": []
  }
 ],
 "metadata": {
  "kernelspec": {
   "display_name": "Python 3 (ipykernel)",
   "language": "python",
   "name": "python3"
  },
  "language_info": {
   "codemirror_mode": {
    "name": "ipython",
    "version": 3
   },
   "file_extension": ".py",
   "mimetype": "text/x-python",
   "name": "python",
   "nbconvert_exporter": "python",
   "pygments_lexer": "ipython3",
   "version": "3.11.9"
  }
 },
 "nbformat": 4,
 "nbformat_minor": 4
}
