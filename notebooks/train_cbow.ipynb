{
 "cells": [
  {
   "cell_type": "markdown",
   "metadata": {},
   "source": [
    "# Placeholder Notebook\n",
    "\n",
    "Fill in code & analysis here."
   ]
  },
  {
   "cell_type": "code",
   "execution_count": 2,
   "metadata": {},
   "outputs": [
    {
     "name": "stdout",
     "output_type": "stream",
     "text": [
      "✅ CBOW model saved at ..\\outputs\\cbow_model\n"
     ]
    }
   ],
   "source": [
    "from gensim.models import Word2Vec\n",
    "import pathlib\n",
    "\n",
    "# 1. 构建语料\n",
    "corpus = [\n",
    "    line.split() \n",
    "    for line in pathlib.Path(\"../data/clean/comments.txt\")\n",
    "                   .read_text(encoding=\"utf-8\")\n",
    "                   .splitlines()\n",
    "]\n",
    "\n",
    "# 2. 训练 CBOW\n",
    "model = Word2Vec(\n",
    "    sentences=corpus,\n",
    "    vector_size=200, window=5,\n",
    "    min_count=5, sg=0, epochs=10\n",
    ")\n",
    "\n",
    "# 3. 保存模型\n",
    "out_dir = pathlib.Path(\"../outputs\")\n",
    "out_dir.mkdir(exist_ok=True)\n",
    "model_path = out_dir / \"cbow_model\"       # 不用 pathlib.Path(...) 也行\n",
    "model.save(str(model_path))               # **注意** 把 Path 转成 str\n",
    "print(\"✅ CBOW model saved at\", model_path)\n",
    "\n"
   ]
  },
  {
   "cell_type": "code",
   "execution_count": null,
   "metadata": {},
   "outputs": [],
   "source": []
  },
  {
   "cell_type": "code",
   "execution_count": null,
   "metadata": {},
   "outputs": [],
   "source": []
  }
 ],
 "metadata": {
  "kernelspec": {
   "display_name": "Python 3 (ipykernel)",
   "language": "python",
   "name": "python3"
  },
  "language_info": {
   "codemirror_mode": {
    "name": "ipython",
    "version": 3
   },
   "file_extension": ".py",
   "mimetype": "text/x-python",
   "name": "python",
   "nbconvert_exporter": "python",
   "pygments_lexer": "ipython3",
   "version": "3.11.9"
  }
 },
 "nbformat": 4,
 "nbformat_minor": 4
}
